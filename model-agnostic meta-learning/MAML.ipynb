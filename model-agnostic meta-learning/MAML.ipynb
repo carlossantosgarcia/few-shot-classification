{
  "nbformat": 4,
  "nbformat_minor": 0,
  "metadata": {
    "colab": {
      "name": "Copy of MAML.ipynb",
      "provenance": [],
      "collapsed_sections": []
    },
    "kernelspec": {
      "name": "python3",
      "display_name": "Python 3"
    },
    "language_info": {
      "name": "python"
    },
    "accelerator": "GPU"
  },
  "cells": [
    {
      "cell_type": "markdown",
      "metadata": {
        "id": "-Gai37UY_SeQ"
      },
      "source": [
        "# MAML - PyTorch\n",
        "\n",
        "PyTorch implementation of MAML for few-shot learning, as seen in the paper [Model-Agnostic Meta-Learning for Fast Adaptation of Deep Networks\n",
        " (Finn et al., 2017)](https://arxiv.org/abs/1703.03400)."
      ]
    },
    {
      "cell_type": "markdown",
      "metadata": {
        "id": "w0tz99e4As86"
      },
      "source": [
        "## Basic setup"
      ]
    },
    {
      "cell_type": "code",
      "metadata": {
        "colab": {
          "base_uri": "https://localhost:8080/"
        },
        "id": "8Kuxzns2YZ-M",
        "outputId": "d5ecc266-75b7-4bb7-b596-9d73923f58f8"
      },
      "source": [
        "from google.colab import drive\n",
        "drive.mount(\"/content/gdrive\")"
      ],
      "execution_count": null,
      "outputs": [
        {
          "output_type": "stream",
          "text": [
            "Mounted at /content/gdrive\n"
          ],
          "name": "stdout"
        }
      ]
    },
    {
      "cell_type": "code",
      "metadata": {
        "id": "PIzEmGpgasJ-"
      },
      "source": [
        "!unzip -q gdrive/MyDrive/VERSACE.zip"
      ],
      "execution_count": null,
      "outputs": []
    },
    {
      "cell_type": "code",
      "metadata": {
        "id": "i7MgRCBM_Tqy"
      },
      "source": [
        "import  torch\n",
        "from    torch import nn\n",
        "from    torch.nn import functional as F\n",
        "from torchvision.transforms import transforms\n",
        "from    torch.utils.data import TensorDataset, DataLoader, Dataset\n",
        "from    torch import optim\n",
        "import  numpy as np\n",
        "import pandas as pd\n",
        "import os\n",
        "import collections\n",
        "from PIL import Image\n",
        "import csv\n",
        "import random\n",
        "import shutil\n",
        "from    copy import deepcopy\n",
        "import  scipy.stats\n",
        "from    torch.optim import lr_scheduler\n",
        "import  sys, pickle\n",
        "import  argparse\n",
        "import seaborn as sn\n",
        "from tqdm import tqdm\n",
        "import matplotlib.pyplot as plt"
      ],
      "execution_count": null,
      "outputs": []
    },
    {
      "cell_type": "markdown",
      "metadata": {
        "id": "2DpFgEJ6_oRT"
      },
      "source": [
        "## Define dataset"
      ]
    },
    {
      "cell_type": "code",
      "metadata": {
        "id": "OXn8qZK_kEFX"
      },
      "source": [
        "def images_paths(path):    \n",
        "    imgs_paths = []\n",
        "    for root, dirs, files in os.walk(path):\n",
        "        for file in files:\n",
        "            if(file.endswith(\".jpg\")):\n",
        "                imgs_paths.append(os.path.join(root,file))\n",
        "    return imgs_paths\n",
        "\n",
        "def path_to_label(path):\n",
        "    label = path[8:-12]\n",
        "    return label"
      ],
      "execution_count": null,
      "outputs": []
    },
    {
      "cell_type": "code",
      "metadata": {
        "id": "1d9RjeKOkLTK"
      },
      "source": [
        "ROOT = 'VERSACE/'\n",
        "\n",
        "masterCategories = []\n",
        "masterCategories += os.listdir(ROOT+'MEN/')\n",
        "masterCategories += os.listdir(ROOT+'WOMEN/')\n",
        "masterCategories = list(set(masterCategories))\n",
        "\n",
        "os.mkdir(ROOT+'images/')"
      ],
      "execution_count": null,
      "outputs": []
    },
    {
      "cell_type": "code",
      "metadata": {
        "id": "A9Zhyv4AkQcW"
      },
      "source": [
        "train_df = pd.read_csv('gdrive/MyDrive/train.csv', index_col=False, usecols=['path', 'label'])\n",
        "query_df = pd.read_csv('gdrive/MyDrive/test.csv', index_col=False, usecols=['path', 'label'])\n",
        "support_df = pd.read_csv('gdrive/MyDrive/val.csv', index_col=False, usecols=['path', 'label'])"
      ],
      "execution_count": null,
      "outputs": []
    },
    {
      "cell_type": "code",
      "metadata": {
        "id": "F-QVBm91W3qm"
      },
      "source": [
        "def local_path(x):\n",
        "    m = len('/content/drive/MyDrive/')\n",
        "    new_path = ''+ x[m:]\n",
        "    target = new_path.replace('/','-')\n",
        "    shutil.copy(new_path, 'VERSACE/images/'+target)\n",
        "    return target\n",
        "\n",
        "train_df.path = train_df.path.apply(lambda x:local_path(x))\n",
        "query_df.path = query_df.path.apply(lambda x:local_path(x))\n",
        "support_df.path = support_df.path.apply(lambda x:local_path(x))\n",
        "\n",
        "train_df.label = train_df.path.apply(lambda x:path_to_label(x))\n",
        "query_df.label = query_df.path.apply(lambda x:path_to_label(x))\n",
        "support_df.label = support_df.path.apply(lambda x:path_to_label(x))\n",
        "\n",
        "train_df.to_csv('VERSACE/train.csv')\n",
        "query_df.to_csv('VERSACE/test.csv')\n",
        "support_df.to_csv('VERSACE/val.csv')"
      ],
      "execution_count": null,
      "outputs": []
    },
    {
      "cell_type": "code",
      "metadata": {
        "id": "3AIhg50Lb3Tn"
      },
      "source": [
        "class VersaceDataSet(Dataset):\n",
        "    def __init__(self, root, mode, batchsz, n_way, k_shot, k_query, resize, startidx=0):\n",
        "        self.batchsz = batchsz  # batch of set, not batch of imgs\n",
        "        self.n_way = n_way  # n-way\n",
        "        self.k_shot = k_shot  # k-shot\n",
        "        self.k_query = k_query  # for evaluation\n",
        "        self.setsz = self.n_way * self.k_shot  # num of samples per set\n",
        "        self.querysz = self.n_way * self.k_query  # number of samples per set for evaluation\n",
        "        self.resize = resize  # resize to\n",
        "        self.startidx = startidx  # index label not from 0, but from startidx\n",
        "        print('shuffle DB :%s, b:%d, %d-way, %d-shot, %d-query, resize:%d' % (\n",
        "        mode, batchsz, n_way, k_shot, k_query, resize))\n",
        "\n",
        "        if mode == 'train':\n",
        "            self.transform = transforms.Compose([lambda x: Image.open(x).convert('RGB'),\n",
        "                                                 transforms.Resize((self.resize, self.resize)),\n",
        "                                                 transforms.RandomHorizontalFlip(),\n",
        "                                                 transforms.RandomRotation(5),\n",
        "                                                 transforms.ToTensor(),\n",
        "                                                 transforms.Normalize((0.485, 0.456, 0.406), (0.229, 0.224, 0.225))\n",
        "                                                 ])\n",
        "        else:\n",
        "            self.transform = transforms.Compose([lambda x: Image.open(x).convert('RGB'),\n",
        "                                                 transforms.Resize((self.resize, self.resize)),\n",
        "                                                 transforms.ToTensor(),\n",
        "                                                 transforms.Normalize((0.485, 0.456, 0.406), (0.229, 0.224, 0.225))\n",
        "                                                 ])\n",
        "\n",
        "        self.path = root\n",
        "        csvdata = self.loadCSV(os.path.join(root, mode + '.csv'))\n",
        "        self.data = []\n",
        "        self.img2label = {}\n",
        "        for i, (k, v) in enumerate(csvdata.items()):\n",
        "            self.data.append(v)\n",
        "            self.img2label[k] = i + self.startidx\n",
        "        self.cls_num = len(self.data)\n",
        "\n",
        "        self.create_batch(self.batchsz)\n",
        "\n",
        "    def loadCSV(self, csvf):\n",
        "        dictLabels = {}\n",
        "        with open(csvf) as csvfile:\n",
        "            csvreader = csv.reader(csvfile, delimiter=',')\n",
        "            next(csvreader, None)\n",
        "            for i, row in enumerate(csvreader):\n",
        "                filename = row[1]\n",
        "                label = row[2]\n",
        "                # append filename to current label\n",
        "                if label in dictLabels.keys():\n",
        "                    dictLabels[label].append(filename)\n",
        "                else:\n",
        "                    dictLabels[label] = [filename]\n",
        "        return dictLabels\n",
        "\n",
        "    def create_batch(self, batchsz):\n",
        "        self.support_x_batch = []  # support set batch\n",
        "        self.query_x_batch = []  # query set batch\n",
        "        \n",
        "        for b in range(batchsz):  # for each batch\n",
        "            # 1.select n_way classes randomly\n",
        "            selected_cls = np.random.choice(self.cls_num, self.n_way, False)  # no duplicate\n",
        "            np.random.shuffle(selected_cls)\n",
        "            support_x = []\n",
        "            query_x = []\n",
        "            for cls in selected_cls:\n",
        "                # 2. select k_shot + k_query for each class\n",
        "                selected_imgs_idx = np.random.choice(len(self.data[cls]), self.k_shot + self.k_query, True)\n",
        "                np.random.shuffle(selected_imgs_idx)\n",
        "                indexDtrain = np.array(selected_imgs_idx[:self.k_shot])\n",
        "                indexDtest = np.array(selected_imgs_idx[self.k_shot:])\n",
        "                support_x.append(\n",
        "                    np.array(self.data[cls])[indexDtrain].tolist())\n",
        "                query_x.append(np.array(self.data[cls])[indexDtest].tolist())\n",
        "\n",
        "            # shuffle the correponding relation between support set and query set\n",
        "            random.shuffle(support_x)\n",
        "            random.shuffle(query_x)\n",
        "\n",
        "            self.support_x_batch.append(support_x)  # append set to current sets\n",
        "            self.query_x_batch.append(query_x)  # append sets to current sets\n",
        "\n",
        "    def __getitem__(self, index):\n",
        "        support_x = torch.FloatTensor(self.setsz, 3, self.resize, self.resize)\n",
        "        support_y = np.zeros((self.setsz), dtype=np.int)\n",
        "        query_x = torch.FloatTensor(self.querysz, 3, self.resize, self.resize)\n",
        "        query_y = np.zeros((self.querysz), dtype=np.int)\n",
        "\n",
        "        flatten_support_x = [os.path.join(self.path,'images', item)\n",
        "                             for sublist in self.support_x_batch[index] for item in sublist]\n",
        "\n",
        "        support_y = np.array(\n",
        "            [self.img2label[item[8:-12]]  # filename:n0153282900000005.jpg, the first 9 characters treated as label\n",
        "             for sublist in self.support_x_batch[index] for item in sublist]).astype(np.int32)\n",
        "\n",
        "        flatten_query_x = [os.path.join(self.path,'images', item)\n",
        "                           for sublist in self.query_x_batch[index] for item in sublist]\n",
        "        query_y = np.array([self.img2label[item[8:-12]]\n",
        "                            for sublist in self.query_x_batch[index] for item in sublist]).astype(np.int32)\n",
        "\n",
        "        unique = np.unique(support_y)\n",
        "        random.shuffle(unique)\n",
        "        # relative means the label ranges from 0 to n-way\n",
        "        support_y_relative = np.zeros(self.setsz)\n",
        "        query_y_relative = np.zeros(self.querysz)\n",
        "        for idx, l in enumerate(unique):\n",
        "            support_y_relative[support_y == l] = idx\n",
        "            query_y_relative[query_y == l] = idx\n",
        "\n",
        "        for i, path in enumerate(flatten_support_x):\n",
        "            support_x[i] = self.transform(path)\n",
        "\n",
        "        for i, path in enumerate(flatten_query_x):\n",
        "            query_x[i] = self.transform(path)\n",
        "\n",
        "        return support_x, torch.LongTensor(support_y_relative), query_x, torch.LongTensor(query_y_relative)\n",
        "\n",
        "    def __len__(self):\n",
        "        # as we have built up to batchsz of sets, you can sample some small batch size of sets.\n",
        "        return self.batchsz"
      ],
      "execution_count": null,
      "outputs": []
    },
    {
      "cell_type": "markdown",
      "metadata": {
        "id": "BKKZObQEAlbE"
      },
      "source": [
        "## Defining the model"
      ]
    },
    {
      "cell_type": "code",
      "metadata": {
        "id": "6W-GurNLCVbs"
      },
      "source": [
        "class Learner(nn.Module):\n",
        "\n",
        "    def __init__(self, config, imgc, imgsz):\n",
        "        super(Learner, self).__init__()\n",
        "\n",
        "\n",
        "        self.config = config\n",
        "\n",
        "        # this dict contains all tensors needed to be optimized\n",
        "        self.vars = nn.ParameterList()\n",
        "        # running_mean and running_var\n",
        "        self.vars_bn = nn.ParameterList()\n",
        "\n",
        "        for i, (name, param) in enumerate(self.config):\n",
        "            if name is 'conv2d':\n",
        "                # [ch_out, ch_in, kernelsz, kernelsz]\n",
        "                w = nn.Parameter(torch.ones(*param[:4]))\n",
        "                # gain=1 according to cbfin's implementation\n",
        "                torch.nn.init.kaiming_normal_(w)\n",
        "                self.vars.append(w)\n",
        "                # [ch_out]\n",
        "                self.vars.append(nn.Parameter(torch.zeros(param[0])))\n",
        "\n",
        "            elif name is 'convt2d':\n",
        "                # [ch_in, ch_out, kernelsz, kernelsz, stride, padding]\n",
        "                w = nn.Parameter(torch.ones(*param[:4]))\n",
        "                # gain=1 according to cbfin's implementation\n",
        "                torch.nn.init.kaiming_normal_(w)\n",
        "                self.vars.append(w)\n",
        "                # [ch_in, ch_out]\n",
        "                self.vars.append(nn.Parameter(torch.zeros(param[1])))\n",
        "\n",
        "            elif name is 'linear':\n",
        "                # [ch_out, ch_in]\n",
        "                w = nn.Parameter(torch.ones(*param))\n",
        "                # gain=1 according to cbfinn's implementation\n",
        "                torch.nn.init.kaiming_normal_(w)\n",
        "                self.vars.append(w)\n",
        "                # [ch_out]\n",
        "                self.vars.append(nn.Parameter(torch.zeros(param[0])))\n",
        "\n",
        "            elif name is 'bn':\n",
        "                # [ch_out]\n",
        "                w = nn.Parameter(torch.ones(param[0]))\n",
        "                self.vars.append(w)\n",
        "                # [ch_out]\n",
        "                self.vars.append(nn.Parameter(torch.zeros(param[0])))\n",
        "\n",
        "                # must set requires_grad=False\n",
        "                running_mean = nn.Parameter(torch.zeros(param[0]), requires_grad=False)\n",
        "                running_var = nn.Parameter(torch.ones(param[0]), requires_grad=False)\n",
        "                self.vars_bn.extend([running_mean, running_var])\n",
        "\n",
        "\n",
        "            elif name in ['tanh', 'relu', 'upsample', 'avg_pool2d', 'max_pool2d',\n",
        "                          'flatten', 'reshape', 'leakyrelu', 'sigmoid']:\n",
        "                continue\n",
        "            else:\n",
        "                raise NotImplementedError\n",
        "\n",
        "    def extra_repr(self):\n",
        "        info = ''\n",
        "\n",
        "        for name, param in self.config:\n",
        "            if name is 'conv2d':\n",
        "                tmp = 'conv2d:(ch_in:%d, ch_out:%d, k:%dx%d, stride:%d, padding:%d)'\\\n",
        "                      %(param[1], param[0], param[2], param[3], param[4], param[5],)\n",
        "                info += tmp + '\\n'\n",
        "\n",
        "            elif name is 'convt2d':\n",
        "                tmp = 'convTranspose2d:(ch_in:%d, ch_out:%d, k:%dx%d, stride:%d, padding:%d)'\\\n",
        "                      %(param[0], param[1], param[2], param[3], param[4], param[5],)\n",
        "                info += tmp + '\\n'\n",
        "\n",
        "            elif name is 'linear':\n",
        "                tmp = 'linear:(in:%d, out:%d)'%(param[1], param[0])\n",
        "                info += tmp + '\\n'\n",
        "\n",
        "            elif name is 'leakyrelu':\n",
        "                tmp = 'leakyrelu:(slope:%f)'%(param[0])\n",
        "                info += tmp + '\\n'\n",
        "\n",
        "\n",
        "            elif name is 'avg_pool2d':\n",
        "                tmp = 'avg_pool2d:(k:%d, stride:%d, padding:%d)'%(param[0], param[1], param[2])\n",
        "                info += tmp + '\\n'\n",
        "            elif name is 'max_pool2d':\n",
        "                tmp = 'max_pool2d:(k:%d, stride:%d, padding:%d)'%(param[0], param[1], param[2])\n",
        "                info += tmp + '\\n'\n",
        "            elif name in ['flatten', 'tanh', 'relu', 'upsample', 'reshape', 'sigmoid', 'use_logits', 'bn']:\n",
        "                tmp = name + ':' + str(tuple(param))\n",
        "                info += tmp + '\\n'\n",
        "            else:\n",
        "                raise NotImplementedError\n",
        "        return info\n",
        "\n",
        "    def forward(self, x, vars=None, bn_training=True):\n",
        "        if vars is None:\n",
        "            vars = self.vars\n",
        "\n",
        "        idx = 0\n",
        "        bn_idx = 0\n",
        "\n",
        "        for name, param in self.config:\n",
        "            if name is 'conv2d':\n",
        "                w, b = vars[idx], vars[idx + 1]\n",
        "                # remember to keep synchrozied of forward_encoder and forward_decoder!\n",
        "                x = F.conv2d(x, w, b, stride=param[4], padding=param[5])\n",
        "                idx += 2\n",
        "                # print(name, param, '\\tout:', x.shape)\n",
        "            elif name is 'convt2d':\n",
        "                w, b = vars[idx], vars[idx + 1]\n",
        "                # remember to keep synchrozied of forward_encoder and forward_decoder!\n",
        "                x = F.conv_transpose2d(x, w, b, stride=param[4], padding=param[5])\n",
        "                idx += 2\n",
        "                # print(name, param, '\\tout:', x.shape)\n",
        "            elif name is 'linear':\n",
        "                w, b = vars[idx], vars[idx + 1]\n",
        "                x = F.linear(x, w, b)\n",
        "                idx += 2\n",
        "                # print('forward:', idx, x.norm().item())\n",
        "            elif name is 'bn':\n",
        "                w, b = vars[idx], vars[idx + 1]\n",
        "                running_mean, running_var = self.vars_bn[bn_idx], self.vars_bn[bn_idx+1]\n",
        "                x = F.batch_norm(x, running_mean, running_var, weight=w, bias=b, training=bn_training)\n",
        "                idx += 2\n",
        "                bn_idx += 2\n",
        "\n",
        "            elif name is 'flatten':\n",
        "                # print(x.shape)\n",
        "                x = x.view(x.size(0), -1)\n",
        "            elif name is 'reshape':\n",
        "                # [b, 8] => [b, 2, 2, 2]\n",
        "                x = x.view(x.size(0), *param)\n",
        "            elif name is 'relu':\n",
        "                x = F.relu(x, inplace=param[0])\n",
        "            elif name is 'leakyrelu':\n",
        "                x = F.leaky_relu(x, negative_slope=param[0], inplace=param[1])\n",
        "            elif name is 'tanh':\n",
        "                x = F.tanh(x)\n",
        "            elif name is 'sigmoid':\n",
        "                x = torch.sigmoid(x)\n",
        "            elif name is 'upsample':\n",
        "                x = F.upsample_nearest(x, scale_factor=param[0])\n",
        "            elif name is 'max_pool2d':\n",
        "                x = F.max_pool2d(x, param[0], param[1], param[2])\n",
        "            elif name is 'avg_pool2d':\n",
        "                x = F.avg_pool2d(x, param[0], param[1], param[2])\n",
        "\n",
        "            else:\n",
        "                raise NotImplementedError\n",
        "\n",
        "        # make sure variable is used properly\n",
        "        assert idx == len(vars)\n",
        "        assert bn_idx == len(self.vars_bn)\n",
        "        return x\n",
        "\n",
        "    def zero_grad(self, vars=None):\n",
        "        with torch.no_grad():\n",
        "            if vars is None:\n",
        "                for p in self.vars:\n",
        "                    if p.grad is not None:\n",
        "                        p.grad.zero_()\n",
        "            else:\n",
        "                for p in vars:\n",
        "                    if p.grad is not None:\n",
        "                        p.grad.zero_()\n",
        "\n",
        "    def parameters(self):\n",
        "        return self.vars"
      ],
      "execution_count": null,
      "outputs": []
    },
    {
      "cell_type": "code",
      "metadata": {
        "id": "vTZq9kj3Cx8-"
      },
      "source": [
        "class Meta(nn.Module):\n",
        "    \"\"\"\n",
        "    Meta Learner\n",
        "    \"\"\"\n",
        "    def __init__(self, args, config):\n",
        "        super(Meta, self).__init__()\n",
        "\n",
        "        self.update_lr = args.update_lr\n",
        "        self.meta_lr = args.meta_lr\n",
        "        self.n_way = args.n_way\n",
        "        self.k_spt = args.k_spt\n",
        "        self.k_qry = args.k_qry\n",
        "        self.task_num = args.task_num\n",
        "        self.update_step = args.update_step\n",
        "        self.update_step_test = args.update_step_test\n",
        "\n",
        "\n",
        "        self.net = Learner(config, args.imgc, args.imgsz)\n",
        "        self.meta_optim = optim.Adam(self.net.parameters(), lr=self.meta_lr)\n",
        "\n",
        "    def clip_grad_by_norm_(self, grad, max_norm):\n",
        "        total_norm = 0\n",
        "        counter = 0\n",
        "        for g in grad:\n",
        "            param_norm = g.data.norm(2)\n",
        "            total_norm += param_norm.item() ** 2\n",
        "            counter += 1\n",
        "        total_norm = total_norm ** (1. / 2)\n",
        "\n",
        "        clip_coef = max_norm / (total_norm + 1e-6)\n",
        "        if clip_coef < 1:\n",
        "            for g in grad:\n",
        "                g.data.mul_(clip_coef)\n",
        "\n",
        "        return total_norm/counter\n",
        "\n",
        "    def forward(self, x_spt, y_spt, x_qry, y_qry):\n",
        "        task_num, setsz, c_, h, w = x_spt.size()\n",
        "        querysz = x_qry.size(1)\n",
        "\n",
        "        losses_q = [0 for _ in range(self.update_step + 1)]  # losses_q[i] is the loss on step i\n",
        "        corrects = [0 for _ in range(self.update_step + 1)]\n",
        "\n",
        "        for i in range(task_num):\n",
        "\n",
        "            # 1. run the i-th task and compute loss for k=0\n",
        "            logits = self.net(x_spt[i], vars=None, bn_training=True)\n",
        "            loss = F.cross_entropy(logits, y_spt[i])\n",
        "            grad = torch.autograd.grad(loss, self.net.parameters())\n",
        "            fast_weights = list(map(lambda p: p[1] - self.update_lr * p[0], zip(grad, self.net.parameters())))\n",
        "\n",
        "            # this is the loss and accuracy before first update\n",
        "            with torch.no_grad():\n",
        "                # [setsz, nway]\n",
        "                logits_q = self.net(x_qry[i], self.net.parameters(), bn_training=True)\n",
        "                loss_q = F.cross_entropy(logits_q, y_qry[i])\n",
        "                losses_q[0] += loss_q\n",
        "\n",
        "                pred_q = F.softmax(logits_q, dim=1).argmax(dim=1)\n",
        "                correct = torch.eq(pred_q, y_qry[i]).sum().item()\n",
        "                corrects[0] = corrects[0] + correct\n",
        "\n",
        "            # this is the loss and accuracy after the first update\n",
        "            with torch.no_grad():\n",
        "                # [setsz, nway]\n",
        "                logits_q = self.net(x_qry[i], fast_weights, bn_training=True)\n",
        "                loss_q = F.cross_entropy(logits_q, y_qry[i])\n",
        "                losses_q[1] += loss_q\n",
        "                # [setsz]\n",
        "                pred_q = F.softmax(logits_q, dim=1).argmax(dim=1)\n",
        "                correct = torch.eq(pred_q, y_qry[i]).sum().item()\n",
        "                corrects[1] = corrects[1] + correct\n",
        "\n",
        "            for k in range(1, self.update_step):\n",
        "                # 1. run the i-th task and compute loss for k=1~K-1\n",
        "                logits = self.net(x_spt[i], fast_weights, bn_training=True)\n",
        "                loss = F.cross_entropy(logits, y_spt[i])\n",
        "                # 2. compute grad on theta_pi\n",
        "                grad = torch.autograd.grad(loss, fast_weights)\n",
        "                # 3. theta_pi = theta_pi - train_lr * grad\n",
        "                fast_weights = list(map(lambda p: p[1] - self.update_lr * p[0], zip(grad, fast_weights)))\n",
        "\n",
        "                logits_q = self.net(x_qry[i], fast_weights, bn_training=True)\n",
        "                # loss_q will be overwritten and just keep the loss_q on last update step.\n",
        "                loss_q = F.cross_entropy(logits_q, y_qry[i])\n",
        "                losses_q[k + 1] += loss_q\n",
        "\n",
        "                with torch.no_grad():\n",
        "                    pred_q = F.softmax(logits_q, dim=1).argmax(dim=1)\n",
        "                    correct = torch.eq(pred_q, y_qry[i]).sum().item()  # convert to numpy\n",
        "                    corrects[k + 1] = corrects[k + 1] + correct\n",
        "\n",
        "        # end of all tasks\n",
        "        # sum over all losses on query set across all tasks\n",
        "        loss_q = losses_q[-1] / task_num\n",
        "\n",
        "        # optimize theta parameters\n",
        "        self.meta_optim.zero_grad()\n",
        "        loss_q.backward()\n",
        "        # print('meta update')\n",
        "        # for p in self.net.parameters()[:5]:\n",
        "        # \tprint(torch.norm(p).item())\n",
        "        self.meta_optim.step()\n",
        "\n",
        "        accs = np.array(corrects) / (querysz * task_num)\n",
        "\n",
        "        return accs\n",
        "\n",
        "\n",
        "    def finetunning(self, x_spt, y_spt, x_qry, y_qry):\n",
        "        assert len(x_spt.shape) == 4\n",
        "\n",
        "        querysz = x_qry.size(0)\n",
        "\n",
        "        corrects = [0 for _ in range(self.update_step_test + 1)]\n",
        "\n",
        "        # in order to not ruin the state of running_mean/variance and bn_weight/bias\n",
        "        # we finetunning on the copied model instead of self.net\n",
        "        net = deepcopy(self.net)\n",
        "\n",
        "        # 1. run the i-th task and compute loss for k=0\n",
        "        logits = net(x_spt)\n",
        "        loss = F.cross_entropy(logits, y_spt)\n",
        "        grad = torch.autograd.grad(loss, net.parameters())\n",
        "        fast_weights = list(map(lambda p: p[1] - self.update_lr * p[0], zip(grad, net.parameters())))\n",
        "\n",
        "        # this is the loss and accuracy before first update\n",
        "        with torch.no_grad():\n",
        "            # [setsz, nway]\n",
        "            logits_q = net(x_qry, net.parameters(), bn_training=True)\n",
        "            # [setsz]\n",
        "            pred_q = F.softmax(logits_q, dim=1).argmax(dim=1)\n",
        "            # scalar\n",
        "            correct = torch.eq(pred_q, y_qry).sum().item()\n",
        "            corrects[0] = corrects[0] + correct\n",
        "\n",
        "        # this is the loss and accuracy after the first update\n",
        "        with torch.no_grad():\n",
        "            # [setsz, nway]\n",
        "            logits_q = net(x_qry, fast_weights, bn_training=True)\n",
        "            # [setsz]\n",
        "            pred_q = F.softmax(logits_q, dim=1).argmax(dim=1)\n",
        "            # scalar\n",
        "            correct = torch.eq(pred_q, y_qry).sum().item()\n",
        "            corrects[1] = corrects[1] + correct\n",
        "\n",
        "        for k in range(1, self.update_step_test):\n",
        "            # 1. run the i-th task and compute loss for k=1~K-1\n",
        "            logits = net(x_spt, fast_weights, bn_training=True)\n",
        "            loss = F.cross_entropy(logits, y_spt)\n",
        "            # 2. compute grad on theta_pi\n",
        "            grad = torch.autograd.grad(loss, fast_weights)\n",
        "            # 3. theta_pi = theta_pi - train_lr * grad\n",
        "            fast_weights = list(map(lambda p: p[1] - self.update_lr * p[0], zip(grad, fast_weights)))\n",
        "\n",
        "            logits_q = net(x_qry, fast_weights, bn_training=True)\n",
        "            # loss_q will be overwritten and just keep the loss_q on last update step.\n",
        "            loss_q = F.cross_entropy(logits_q, y_qry)\n",
        "\n",
        "            with torch.no_grad():\n",
        "                pred_q = F.softmax(logits_q, dim=1).argmax(dim=1)\n",
        "                correct = torch.eq(pred_q, y_qry).sum().item()  # convert to numpy\n",
        "                corrects[k + 1] = corrects[k + 1] + correct\n",
        "        del net\n",
        "        accs = np.array(corrects) / querysz\n",
        "        return accs"
      ],
      "execution_count": null,
      "outputs": []
    },
    {
      "cell_type": "markdown",
      "metadata": {
        "id": "ZauWmEuAEfgH"
      },
      "source": [
        "## Training"
      ]
    },
    {
      "cell_type": "code",
      "metadata": {
        "id": "a1GCfZVcEe55"
      },
      "source": [
        "\n",
        "def mean_confidence_interval(accs, confidence=0.95):\n",
        "    n = accs.shape[0]\n",
        "    m, se = np.mean(accs), scipy.stats.sem(accs)\n",
        "    h = se * scipy.stats.t._ppf((1 + confidence) / 2, n - 1)\n",
        "    return m, h\n",
        "\n",
        "class Configuration:\n",
        "    def __init__(self, epoch=60000, n_way=5, k_spt=1, k_qry=15, imgsz=84, imgc=3,\n",
        "                 task_num=4, meta_lr=1e-3, update_lr=0.01, update_step=5, \n",
        "                 update_step_test=10):\n",
        "        self.epoch = epoch\n",
        "        self.n_way = n_way\n",
        "        self.k_spt = k_spt\n",
        "        self.k_qry = k_qry\n",
        "        self.imgsz = imgsz\n",
        "        self.imgc = imgc\n",
        "        self.task_num = task_num\n",
        "        self.meta_lr = meta_lr\n",
        "        self.update_lr = update_lr\n",
        "        self.update_step = update_step\n",
        "        self.update_step_test = update_step_test\n",
        "\n",
        "torch.manual_seed(222)\n",
        "torch.cuda.manual_seed_all(222)\n",
        "np.random.seed(222)\n",
        "\n",
        "def main():\n",
        "    print(args)\n",
        "    config = [\n",
        "        ('conv2d', [32, 3, 3, 3, 1, 0]),\n",
        "        ('relu', [True]),\n",
        "        ('bn', [32]),\n",
        "        ('max_pool2d', [2, 2, 0]),\n",
        "        ('conv2d', [32, 32, 3, 3, 1, 0]),\n",
        "        ('relu', [True]),\n",
        "        ('bn', [32]),\n",
        "        ('max_pool2d', [2, 2, 0]),\n",
        "        ('conv2d', [32, 32, 3, 3, 1, 0]),\n",
        "        ('relu', [True]),\n",
        "        ('bn', [32]),\n",
        "        ('max_pool2d', [2, 2, 0]),\n",
        "        ('conv2d', [32, 32, 3, 3, 1, 0]),\n",
        "        ('relu', [True]),\n",
        "        ('bn', [32]),\n",
        "        ('max_pool2d', [2, 1, 0]),\n",
        "        ('flatten', []),\n",
        "        ('linear', [args.n_way, 32 * 5 * 5])\n",
        "    ]\n",
        "\n",
        "    maml = Meta(args, config)\n",
        "\n",
        "    tmp = filter(lambda x: x.requires_grad, maml.parameters())\n",
        "    num = sum(map(lambda x: np.prod(x.shape), tmp))\n",
        "    print(maml)\n",
        "    print('Total trainable tensors:', num)\n",
        "\n",
        "    # batchsz here means total episode number\n",
        "    mini = VersaceDataSet('VERSACE/', mode='train', n_way=args.n_way, k_shot=args.k_spt,\n",
        "                          k_query=args.k_qry,\n",
        "                          batchsz=100, resize=args.imgsz)\n",
        "    mini_test = VersaceDataSet('VERSACE/', mode='test', n_way=args.n_way, k_shot=args.k_spt,\n",
        "                               k_query=args.k_qry,\n",
        "                               batchsz=100, resize=args.imgsz)\n",
        "\n",
        "    for epoch in range(args.epoch//100):\n",
        "        # fetch meta_batchsz num of episode each time\n",
        "        db = DataLoader(mini, args.task_num, shuffle=True, num_workers=1, pin_memory=True)\n",
        "\n",
        "        for step, (x_spt, y_spt, x_qry, y_qry) in enumerate(db):\n",
        "\n",
        "            accs = maml(x_spt, y_spt, x_qry, y_qry)\n",
        "\n",
        "            if step % 30 == 0:\n",
        "                print('step:', step, '\\ttraining acc:', accs)\n",
        "\n",
        "            if step % 500 == 0:  # evaluation\n",
        "                db_test = DataLoader(mini_test, 1, shuffle=True, num_workers=1, pin_memory=True)\n",
        "                accs_all_test = []\n",
        "\n",
        "                for x_spt, y_spt, x_qry, y_qry in db_test:\n",
        "                    x_spt, y_spt, x_qry, y_qry = x_spt.squeeze(0), y_spt.squeeze(0), \\\n",
        "                                                    x_qry.squeeze(0), y_qry.squeeze(0)\n",
        "                    accs = maml.finetunning(x_spt, y_spt, x_qry, y_qry)\n",
        "                    accs_all_test.append(accs)\n",
        "\n",
        "                # [b, update_step+1]\n",
        "                accs = np.array(accs_all_test).mean(axis=0).astype(np.float16)\n",
        "                print('Test acc:', accs)\n",
        "    return maml\n",
        "\n",
        "args = Configuration(epoch=1000,k_spt=1, k_qry=1, n_way=25)\n",
        "maml = main()"
      ],
      "execution_count": null,
      "outputs": []
    },
    {
      "cell_type": "code",
      "metadata": {
        "id": "XaMCMa0wDiHN"
      },
      "source": [
        "def enforce_all_seeds(seed):\n",
        "    np.random.seed(seed)\n",
        "    random.seed(seed)\n",
        "    torch.manual_seed(seed)\n",
        "    if torch.cuda.is_available():\n",
        "        torch.cuda.manual_seed(seed)\n",
        "    rgen = np.random.default_rng(seed)\n",
        "    return rgen"
      ],
      "execution_count": null,
      "outputs": []
    },
    {
      "cell_type": "markdown",
      "metadata": {
        "id": "KUF7R-4IADhe"
      },
      "source": [
        "## Evaluating performance"
      ]
    },
    {
      "cell_type": "code",
      "metadata": {
        "id": "edDbchvqsb5_",
        "colab": {
          "base_uri": "https://localhost:8080/"
        },
        "outputId": "6aa6cf51-4176-4a8a-d423-3a951d2319a5"
      },
      "source": [
        "n_way_v = [5,10,25]\n",
        "k_shot_v = [1,3,5]\n",
        "N = 3\n",
        "mean_acc_matrix_v = np.zeros((len(n_way_v),len(k_shot_v)))\n",
        "for seed in range(N):\n",
        "    rgen = enforce_all_seeds(seed)\n",
        "    acc_matrix = np.zeros((len(n_way_v),len(k_shot_v)))\n",
        "    for i,n in tqdm(enumerate(n_way_v)):\n",
        "        for j,k in enumerate(k_shot_v):\n",
        "            #args = Configuration(epoch=500,k_spt=k, k_qry=1, n_way=n, update_step_test=1)\n",
        "            mini_test = VersaceDataSet('VERSACE/', mode='test', n_way=n, k_shot=k,\n",
        "                               k_query=1,\n",
        "                               batchsz=100, resize=84)\n",
        "            db_test = DataLoader(mini_test, 1, shuffle=True, num_workers=1, pin_memory=True)\n",
        "            accs_all_test = []\n",
        "            for x_spt, y_spt, x_qry, y_qry in db_test:\n",
        "                x_spt, y_spt, x_qry, y_qry = x_spt.squeeze(0), y_spt.squeeze(0), \\\n",
        "                                                x_qry.squeeze(0), y_qry.squeeze(0)\n",
        "                accs = maml.finetunning(x_spt, y_spt, x_qry, y_qry)\n",
        "                accs_all_test.append(accs)\n",
        "            accs = np.array(accs_all_test).mean(axis=0).astype(np.float16)\n",
        "            acc_matrix[i][j] = accs[-1]\n",
        "    mean_acc_matrix_v += acc_matrix\n",
        "mean_acc_matrix_v /= N"
      ],
      "execution_count": null,
      "outputs": [
        {
          "output_type": "stream",
          "text": [
            "\r0it [00:00, ?it/s]"
          ],
          "name": "stderr"
        },
        {
          "output_type": "stream",
          "text": [
            "shuffle DB :test, b:100, 5-way, 1-shot, 1-query, resize:84\n",
            "shuffle DB :test, b:100, 5-way, 3-shot, 1-query, resize:84\n",
            "shuffle DB :test, b:100, 5-way, 5-shot, 1-query, resize:84\n"
          ],
          "name": "stdout"
        },
        {
          "output_type": "stream",
          "text": [
            "\r1it [06:52, 412.54s/it]"
          ],
          "name": "stderr"
        },
        {
          "output_type": "stream",
          "text": [
            "shuffle DB :test, b:100, 10-way, 1-shot, 1-query, resize:84\n",
            "shuffle DB :test, b:100, 10-way, 3-shot, 1-query, resize:84\n",
            "shuffle DB :test, b:100, 10-way, 5-shot, 1-query, resize:84\n"
          ],
          "name": "stdout"
        },
        {
          "output_type": "stream",
          "text": [
            "\r2it [19:59, 524.98s/it]"
          ],
          "name": "stderr"
        },
        {
          "output_type": "stream",
          "text": [
            "shuffle DB :test, b:100, 25-way, 1-shot, 1-query, resize:84\n",
            "shuffle DB :test, b:100, 25-way, 3-shot, 1-query, resize:84\n",
            "shuffle DB :test, b:100, 25-way, 5-shot, 1-query, resize:84\n"
          ],
          "name": "stdout"
        },
        {
          "output_type": "stream",
          "text": [
            "3it [52:41, 1053.86s/it]\n",
            "0it [00:00, ?it/s]"
          ],
          "name": "stderr"
        },
        {
          "output_type": "stream",
          "text": [
            "shuffle DB :test, b:100, 5-way, 1-shot, 1-query, resize:84\n",
            "shuffle DB :test, b:100, 5-way, 3-shot, 1-query, resize:84\n",
            "shuffle DB :test, b:100, 5-way, 5-shot, 1-query, resize:84\n"
          ],
          "name": "stdout"
        },
        {
          "output_type": "stream",
          "text": [
            "\r1it [07:09, 429.84s/it]"
          ],
          "name": "stderr"
        },
        {
          "output_type": "stream",
          "text": [
            "shuffle DB :test, b:100, 10-way, 1-shot, 1-query, resize:84\n",
            "shuffle DB :test, b:100, 10-way, 3-shot, 1-query, resize:84\n",
            "shuffle DB :test, b:100, 10-way, 5-shot, 1-query, resize:84\n"
          ],
          "name": "stdout"
        },
        {
          "output_type": "stream",
          "text": [
            "\r2it [21:07, 552.32s/it]"
          ],
          "name": "stderr"
        },
        {
          "output_type": "stream",
          "text": [
            "shuffle DB :test, b:100, 25-way, 1-shot, 1-query, resize:84\n",
            "shuffle DB :test, b:100, 25-way, 3-shot, 1-query, resize:84\n",
            "shuffle DB :test, b:100, 25-way, 5-shot, 1-query, resize:84\n"
          ],
          "name": "stdout"
        },
        {
          "output_type": "stream",
          "text": [
            "3it [54:12, 1084.22s/it]\n",
            "0it [00:00, ?it/s]"
          ],
          "name": "stderr"
        },
        {
          "output_type": "stream",
          "text": [
            "shuffle DB :test, b:100, 5-way, 1-shot, 1-query, resize:84\n",
            "shuffle DB :test, b:100, 5-way, 3-shot, 1-query, resize:84\n",
            "shuffle DB :test, b:100, 5-way, 5-shot, 1-query, resize:84\n"
          ],
          "name": "stdout"
        },
        {
          "output_type": "stream",
          "text": [
            "\r1it [07:26, 446.26s/it]"
          ],
          "name": "stderr"
        },
        {
          "output_type": "stream",
          "text": [
            "shuffle DB :test, b:100, 10-way, 1-shot, 1-query, resize:84\n",
            "shuffle DB :test, b:100, 10-way, 3-shot, 1-query, resize:84\n",
            "shuffle DB :test, b:100, 10-way, 5-shot, 1-query, resize:84\n"
          ],
          "name": "stdout"
        },
        {
          "output_type": "stream",
          "text": [
            "\r2it [21:29, 565.43s/it]"
          ],
          "name": "stderr"
        },
        {
          "output_type": "stream",
          "text": [
            "shuffle DB :test, b:100, 25-way, 1-shot, 1-query, resize:84\n",
            "shuffle DB :test, b:100, 25-way, 3-shot, 1-query, resize:84\n",
            "shuffle DB :test, b:100, 25-way, 5-shot, 1-query, resize:84\n"
          ],
          "name": "stdout"
        },
        {
          "output_type": "stream",
          "text": [
            "3it [54:35, 1091.88s/it]\n"
          ],
          "name": "stderr"
        }
      ]
    },
    {
      "cell_type": "code",
      "metadata": {
        "id": "Tolz3ZfrDZuA"
      },
      "source": [
        "def plot_heatmap(data, xlabels, ylabels, title, size):\n",
        "    f = plt.figure(figsize=(9,9))\n",
        "    sn.heatmap(data, annot=True, fmt='.1%', yticklabels = ylabels, xticklabels=xlabels, cmap='viridis', annot_kws={\"size\":13})\n",
        "    plt.title(title, size=size)\n",
        "    plt.ylabel('N categories', size=size)\n",
        "    plt.xlabel('K images per category', size=size)\n",
        "    plt.show()\n",
        "    f.savefig(\"maml_perf.pdf\", bbox_inches='tight')"
      ],
      "execution_count": null,
      "outputs": []
    },
    {
      "cell_type": "code",
      "metadata": {
        "id": "qwXSE6XdLJVO",
        "colab": {
          "base_uri": "https://localhost:8080/",
          "height": 603
        },
        "outputId": "734b451b-805c-4aae-e56c-1e888299a311"
      },
      "source": [
        "plot_heatmap(mean_acc_matrix_v, k_shot_v, n_way_v, 'N-way K-shot classification \\n Versace', 20)"
      ],
      "execution_count": null,
      "outputs": [
        {
          "output_type": "display_data",
          "data": {
            "image/png": "[encoded data removed]",
            "text/plain": [
              "<Figure size 648x648 with 2 Axes>"
            ]
          },
          "metadata": {
            "tags": [],
            "needs_background": "light"
          }
        }
      ]
    }
  ]
}